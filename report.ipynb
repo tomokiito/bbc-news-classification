{
 "cells": [
  {
   "cell_type": "markdown",
   "metadata": {},
   "source": [
    "### Introduction\n",
    "\n",
    "In the field of Natural Language Processing (NLP), text classification is a crucial task with wide applications. Specifically, the automated classification of news articles plays a significant role in efficiently organizing large amounts of information and delivering relevant content to users. This project focuses on the BBC News Classification task as part of a Kaggle competition, where news articles are categorized into distinct groups such as \"Business,\" \"Sports,\" \"Entertainment,\" and more.\n",
    "\n",
    "#### Objective\n",
    "The goal of this project is to build a model capable of categorizing BBC news articles into predefined categories. The main approach employed in this project is matrix factorization for unsupervised learning to predict the categories of the news articles. Additionally, a comparison with supervised learning methods will be performed to evaluate the performance and efficiency of both approaches.\n"
   ]
  },
  {
   "cell_type": "markdown",
   "metadata": {},
   "source": [
    "### Exploratory Data Analysis (EDA)\n",
    "\n",
    "#### 1. Load and Inspect the Data\n",
    "\n",
    "I begin by loading the training and test datasets and inspecting their basic structure. This helps me understand the types of data I am dealing with and check for any missing or inconsistent values."
   ]
  },
  {
   "cell_type": "code",
   "execution_count": 2,
   "metadata": {},
   "outputs": [
    {
     "name": "stdout",
     "output_type": "stream",
     "text": [
      "   ArticleId                                               Text  Category\n",
      "0       1833  worldcom ex-boss launches defence lawyers defe...  business\n",
      "1        154  german business confidence slides german busin...  business\n",
      "2       1101  bbc poll indicates economic gloom citizens in ...  business\n",
      "3       1976  lifestyle  governs mobile choice  faster  bett...      tech\n",
      "4        917  enron bosses in $168m payout eighteen former e...  business\n",
      "<class 'pandas.core.frame.DataFrame'>\n",
      "RangeIndex: 1490 entries, 0 to 1489\n",
      "Data columns (total 3 columns):\n",
      " #   Column     Non-Null Count  Dtype \n",
      "---  ------     --------------  ----- \n",
      " 0   ArticleId  1490 non-null   int64 \n",
      " 1   Text       1490 non-null   object\n",
      " 2   Category   1490 non-null   object\n",
      "dtypes: int64(1), object(2)\n",
      "memory usage: 35.1+ KB\n",
      "None\n",
      "<class 'pandas.core.frame.DataFrame'>\n",
      "RangeIndex: 735 entries, 0 to 734\n",
      "Data columns (total 2 columns):\n",
      " #   Column     Non-Null Count  Dtype \n",
      "---  ------     --------------  ----- \n",
      " 0   ArticleId  735 non-null    int64 \n",
      " 1   Text       735 non-null    object\n",
      "dtypes: int64(1), object(1)\n",
      "memory usage: 11.6+ KB\n",
      "None\n"
     ]
    }
   ],
   "source": [
    "import pandas as pd\n",
    "\n",
    "# Load the training and test datasets\n",
    "train_data = pd.read_csv('learn-ai-bbc/BBC News Train.csv')\n",
    "test_data = pd.read_csv('learn-ai-bbc/BBC News Test.csv')\n",
    "\n",
    "# Display the first few rows of the training data\n",
    "print(train_data.head())\n",
    "print(train_data.info())\n",
    "print(test_data.info())"
   ]
  },
  {
   "cell_type": "markdown",
   "metadata": {},
   "source": [
    "From this inspection, I can see that the dataset contains `ArticleId`, `Text`, and `Category` columns. The `Category` column represents the target variable, which I will attempt to predict."
   ]
  },
  {
   "cell_type": "markdown",
   "metadata": {},
   "source": [
    "#### 2. Check for Missing Values\n",
    "\n",
    "Next, I check for missing data to ensure that there are no gaps in the dataset. Any missing data will need to be handled either by imputation or removal."
   ]
  },
  {
   "cell_type": "code",
   "execution_count": 3,
   "metadata": {},
   "outputs": [
    {
     "name": "stdout",
     "output_type": "stream",
     "text": [
      "ArticleId    0\n",
      "Text         0\n",
      "Category     0\n",
      "dtype: int64\n",
      "ArticleId    0\n",
      "Text         0\n",
      "dtype: int64\n"
     ]
    }
   ],
   "source": [
    "# Check for missing values in the datasets\n",
    "print(train_data.isnull().sum())\n",
    "print(test_data.isnull().sum())"
   ]
  },
  {
   "cell_type": "markdown",
   "metadata": {},
   "source": [
    "Luckily, there are no missing values in either dataset, so I can proceed to the next step."
   ]
  },
  {
   "cell_type": "markdown",
   "metadata": {},
   "source": [
    "### 3. Visualize the Data Distribution\n",
    "\n",
    "To better understand the target variable (`Category`), I visualize the distribution of categories in the training dataset.\n"
   ]
  },
  {
   "cell_type": "code",
   "execution_count": 8,
   "metadata": {},
   "outputs": [
    {
     "data": {
      "image/png": "[encoded data removed]",
      "text/plain": [
       "<Figure size 1000x600 with 1 Axes>"
      ]
     },
     "metadata": {},
     "output_type": "display_data"
    }
   ],
   "source": [
    "import matplotlib.pyplot as plt\n",
    "import seaborn as sns\n",
    "\n",
    "# Plot the distribution of the target labels\n",
    "plt.figure(figsize=(10,6))\n",
    "sns.countplot(x='Category', data=train_data)\n",
    "plt.title('Distribution of News Categories')\n",
    "plt.show()"
   ]
  },
  {
   "cell_type": "markdown",
   "metadata": {},
   "source": [
    "From the plot, I observe that the categories are fairly balanced, though some categories may have slightly more articles than others. This is important because imbalanced classes could impact model performance.\n"
   ]
  },
  {
   "cell_type": "markdown",
   "metadata": {},
   "source": [
    "#### 4. Text Preprocessing\n",
    "\n",
    "Before applying any machine learning models, I need to clean the text data. This involves several steps:\n",
    "- Lowercasing all text\n",
    "- Removing punctuation and numbers\n",
    "- Removing stopwords (common but unimportant words such as \"the\", \"is\")\n",
    "- Lemmatizing words (converting words to their base form)"
   ]
  },
  {
   "cell_type": "code",
   "execution_count": 14,
   "metadata": {},
   "outputs": [],
   "source": [
    "import string\n",
    "from nltk.corpus import stopwords\n",
    "from nltk.stem import WordNetLemmatizer\n",
    "\n",
    "# Initialize lemmatizer and stopwords\n",
    "lemmatizer = WordNetLemmatizer()\n",
    "stop_words = set(stopwords.words('english'))\n",
    "\n",
    "def preprocess_text(text):\n",
    "    # Convert to lowercase\n",
    "    text = text.lower()\n",
    "    \n",
    "    # Remove punctuation\n",
    "    text = text.translate(str.maketrans('', '', string.punctuation))\n",
    "    \n",
    "    # Remove stopwords and lemmatize\n",
    "    text = ' '.join([lemmatizer.lemmatize(word) for word in text.split() if word not in stop_words])\n",
    "    \n",
    "    return text\n",
    "\n",
    "# Apply preprocessing to the training data\n",
    "train_data['cleaned_text'] = train_data['Text'].apply(preprocess_text)"
   ]
  },
  {
   "cell_type": "markdown",
   "metadata": {},
   "source": [
    "Display Original and Cleaned Text"
   ]
  },
  {
   "cell_type": "code",
   "execution_count": 18,
   "metadata": {},
   "outputs": [
    {
     "name": "stdout",
     "output_type": "stream",
     "text": [
      "Original Text:\n",
      "worldcom ex-boss launches defence lawyers defending former worldcom chief bernie ebbers against a battery of fraud charges have called a company whistleblower as their first witness.  cynthia cooper  worldcom s ex-head of internal accounting  alerted directors to irregular accounting practices at the us telecoms giant in 2002. her warnings led to the collapse of the firm following the discovery of an $11bn (£5.7bn) accounting fraud. mr ebbers has pleaded not guilty to charges of fraud and conspiracy.  prosecution lawyers have argued that mr ebbers orchestrated a series of accounting tricks at worldcom  ordering employees to hide expenses and inflate revenues to meet wall street earnings estimates. but ms cooper  who now runs her own consulting business  told a jury in new york on wednesday that external auditors arthur andersen had approved worldcom s accounting in early 2001 and 2002. she said andersen had given a  green light  to the procedures and practices used by worldcom. mr ebber s lawyers have said he was unaware of the fraud  arguing that auditors did not alert him to any problems.  ms cooper also said that during shareholder meetings mr ebbers often passed over technical questions to the company s finance chief  giving only  brief  answers himself. the prosecution s star witness  former worldcom financial chief scott sullivan  has said that mr ebbers ordered accounting adjustments at the firm  telling him to  hit our books . however  ms cooper said mr sullivan had not mentioned  anything uncomfortable  about worldcom s accounting during a 2001 audit committee meeting. mr ebbers could face a jail sentence of 85 years if convicted of all the charges he is facing. worldcom emerged from bankruptcy protection in 2004  and is now known as mci. last week  mci agreed to a buyout by verizon communications in a deal valued at $6.75bn.\n",
      "\n",
      "Cleaned Text:\n",
      "worldcom exboss launch defence lawyer defending former worldcom chief bernie ebbers battery fraud charge called company whistleblower first witness cynthia cooper worldcom exhead internal accounting alerted director irregular accounting practice u telecom giant 2002 warning led collapse firm following discovery 11bn £57bn accounting fraud mr ebbers pleaded guilty charge fraud conspiracy prosecution lawyer argued mr ebbers orchestrated series accounting trick worldcom ordering employee hide expense inflate revenue meet wall street earnings estimate m cooper run consulting business told jury new york wednesday external auditor arthur andersen approved worldcom accounting early 2001 2002 said andersen given green light procedure practice used worldcom mr ebber lawyer said unaware fraud arguing auditor alert problem m cooper also said shareholder meeting mr ebbers often passed technical question company finance chief giving brief answer prosecution star witness former worldcom financial chief scott sullivan said mr ebbers ordered accounting adjustment firm telling hit book however m cooper said mr sullivan mentioned anything uncomfortable worldcom accounting 2001 audit committee meeting mr ebbers could face jail sentence 85 year convicted charge facing worldcom emerged bankruptcy protection 2004 known mci last week mci agreed buyout verizon communication deal valued 675bn\n",
      "\n",
      "================================================================================\n",
      "\n",
      "Original Text:\n",
      "german business confidence slides german business confidence fell in february knocking hopes of a speedy recovery in europe s largest economy.  munich-based research institute ifo said that its confidence index fell to 95.5 in february from 97.5 in january  its first decline in three months. the study found that the outlook in both the manufacturing and retail sectors had worsened. observers had been hoping that a more confident business sector would signal that economic activity was picking up.   we re surprised that the ifo index has taken such a knock   said dz bank economist bernd weidensteiner.  the main reason is probably that the domestic economy is still weak  particularly in the retail trade.  economy and labour minister wolfgang clement called the dip in february s ifo confidence figure  a very mild decline . he said that despite the retreat  the index remained at a relatively high level and that he expected  a modest economic upswing  to continue.  germany s economy grew 1.6% last year after shrinking in 2003. however  the economy contracted by 0.2% during the last three months of 2004  mainly due to the reluctance of consumers to spend. latest indications are that growth is still proving elusive and ifo president hans-werner sinn said any improvement in german domestic demand was sluggish. exports had kept things going during the first half of 2004  but demand for exports was then hit as the value of the euro hit record levels making german products less competitive overseas. on top of that  the unemployment rate has been stuck at close to 10% and manufacturing firms  including daimlerchrysler  siemens and volkswagen  have been negotiating with unions over cost cutting measures. analysts said that the ifo figures and germany s continuing problems may delay an interest rate rise by the european central bank. eurozone interest rates are at 2%  but comments from senior officials have recently focused on the threat of inflation  prompting fears that interest rates may rise.\n",
      "\n",
      "Cleaned Text:\n",
      "german business confidence slide german business confidence fell february knocking hope speedy recovery europe largest economy munichbased research institute ifo said confidence index fell 955 february 975 january first decline three month study found outlook manufacturing retail sector worsened observer hoping confident business sector would signal economic activity picking surprised ifo index taken knock said dz bank economist bernd weidensteiner main reason probably domestic economy still weak particularly retail trade economy labour minister wolfgang clement called dip february ifo confidence figure mild decline said despite retreat index remained relatively high level expected modest economic upswing continue germany economy grew 16 last year shrinking 2003 however economy contracted 02 last three month 2004 mainly due reluctance consumer spend latest indication growth still proving elusive ifo president hanswerner sinn said improvement german domestic demand sluggish export kept thing going first half 2004 demand export hit value euro hit record level making german product less competitive overseas top unemployment rate stuck close 10 manufacturing firm including daimlerchrysler siemens volkswagen negotiating union cost cutting measure analyst said ifo figure germany continuing problem may delay interest rate rise european central bank eurozone interest rate 2 comment senior official recently focused threat inflation prompting fear interest rate may rise\n",
      "\n",
      "================================================================================\n",
      "\n",
      "Original Text:\n",
      "bbc poll indicates economic gloom citizens in a majority of nations surveyed in a bbc world service poll believe the world economy is worsening.  most respondents also said their national economy was getting worse. but when asked about their own family s financial outlook  a majority in 14 countries said they were positive about the future. almost 23 000 people in 22 countries were questioned for the poll  which was mostly conducted before the asian tsunami disaster. the poll found that a majority or plurality of people in 13 countries believed the economy was going downhill  compared with respondents in nine countries who believed it was improving. those surveyed in three countries were split. in percentage terms  an average of 44% of respondents in each country said the world economy was getting worse  compared to 34% who said it was improving. similarly  48% were pessimistic about their national economy  while 41% were optimistic. and 47% saw their family s economic conditions improving  as against 36% who said they were getting worse.  the poll of 22 953 people was conducted by the international polling firm globescan  together with the program on international policy attitudes (pipa) at the university of maryland.  while the world economy has picked up from difficult times just a few years ago  people seem to not have fully absorbed this development  though they are personally experiencing its effects   said pipa director steven kull.  people around the world are saying:  i m ok  but the world isn t .  there may be a perception that war  terrorism and religious and political divisions are making the world a worse place  even though that has not so far been reflected in global economic performance  says the bbc s elizabeth blunt.  the countries where people were most optimistic  both for the world and for their own families  were two fast-growing developing economies  china and india  followed by indonesia. china has seen two decades of blistering economic growth  which has led to wealth creation on a huge scale  says the bbc s louisa lim in beijing. but the results also may reflect the untrammelled confidence of people who are subject to endless government propaganda about their country s rosy economic future  our correspondent says. south korea was the most pessimistic  while respondents in italy and mexico were also quite gloomy. the bbc s david willey in rome says one reason for that result is the changeover from the lira to the euro in 2001  which is widely viewed as the biggest reason why their wages and salaries are worth less than they used to be. the philippines was among the most upbeat countries on prospects for respondents  families  but one of the most pessimistic about the world economy. pipa conducted the poll from 15 november 2004 to 3 january 2005 across 22 countries in face-to-face or telephone interviews. the interviews took place between 15 november 2004 and 5 january 2005. the margin of error is between 2.5 and 4 points  depending on the country. in eight of the countries  the sample was limited to major metropolitan areas.\n",
      "\n",
      "Cleaned Text:\n",
      "bbc poll indicates economic gloom citizen majority nation surveyed bbc world service poll believe world economy worsening respondent also said national economy getting worse asked family financial outlook majority 14 country said positive future almost 23 000 people 22 country questioned poll mostly conducted asian tsunami disaster poll found majority plurality people 13 country believed economy going downhill compared respondent nine country believed improving surveyed three country split percentage term average 44 respondent country said world economy getting worse compared 34 said improving similarly 48 pessimistic national economy 41 optimistic 47 saw family economic condition improving 36 said getting worse poll 22 953 people conducted international polling firm globescan together program international policy attitude pipa university maryland world economy picked difficult time year ago people seem fully absorbed development though personally experiencing effect said pipa director steven kull people around world saying ok world may perception war terrorism religious political division making world worse place even though far reflected global economic performance say bbc elizabeth blunt country people optimistic world family two fastgrowing developing economy china india followed indonesia china seen two decade blistering economic growth led wealth creation huge scale say bbc louisa lim beijing result also may reflect untrammelled confidence people subject endless government propaganda country rosy economic future correspondent say south korea pessimistic respondent italy mexico also quite gloomy bbc david willey rome say one reason result changeover lira euro 2001 widely viewed biggest reason wage salary worth less used philippine among upbeat country prospect respondent family one pessimistic world economy pipa conducted poll 15 november 2004 3 january 2005 across 22 country facetoface telephone interview interview took place 15 november 2004 5 january 2005 margin error 25 4 point depending country eight country sample limited major metropolitan area\n",
      "\n",
      "================================================================================\n",
      "\n"
     ]
    }
   ],
   "source": [
    "# Compare the original text and the cleaned text\n",
    "for i in range(3):  # Display the first 3 articles\n",
    "    print(\"Original Text:\")\n",
    "    print(train_data['Text'].iloc[i])\n",
    "    print(\"\\nCleaned Text:\")\n",
    "    print(train_data['cleaned_text'].iloc[i])\n",
    "    print(\"\\n\" + \"=\"*80 + \"\\n\")"
   ]
  },
  {
   "cell_type": "markdown",
   "metadata": {},
   "source": [
    "Display Word Frequency"
   ]
  },
  {
   "cell_type": "code",
   "execution_count": 19,
   "metadata": {},
   "outputs": [
    {
     "name": "stdout",
     "output_type": "stream",
     "text": [
      "Most common words:\n",
      "[('said', 4838), ('mr', 2006), ('year', 1853), ('would', 1711), ('also', 1426), ('new', 1334), ('people', 1323), ('u', 1227), ('one', 1190), ('could', 1032)]\n"
     ]
    },
    {
     "data": {
      "image/png": "[encoded data removed]",
      "text/plain": [
       "<Figure size 1000x600 with 1 Axes>"
      ]
     },
     "metadata": {},
     "output_type": "display_data"
    }
   ],
   "source": [
    "from collections import Counter\n",
    "\n",
    "# Combine all cleaned text and count word occurrences\n",
    "all_words = ' '.join(train_data['cleaned_text']).split()\n",
    "word_freq = Counter(all_words)\n",
    "\n",
    "# Display the 10 most common words\n",
    "print(\"Most common words:\")\n",
    "print(word_freq.most_common(10))\n",
    "\n",
    "import matplotlib.pyplot as plt\n",
    "\n",
    "# Get the top 10 most common words and their frequencies\n",
    "common_words = word_freq.most_common(10)\n",
    "words, counts = zip(*common_words)\n",
    "\n",
    "# Plot a bar chart to show word frequency\n",
    "plt.figure(figsize=(10,6))\n",
    "plt.bar(words, counts)\n",
    "plt.title('Top 10 Most Common Words')\n",
    "plt.xlabel('Words')\n",
    "plt.ylabel('Frequency')\n",
    "plt.show()\n"
   ]
  },
  {
   "cell_type": "markdown",
   "metadata": {},
   "source": [
    "### 5. Feature Extraction\n",
    "\n",
    "After preprocessing the text data, I need to convert it into a format that machine learning models can process. In this case, I will use **TF-IDF** (Term Frequency-Inverse Document Frequency) to transform the text into numerical vectors.\n",
    "\n",
    "#### What is TF-IDF?\n",
    "\n",
    "TF-IDF is a common feature extraction technique in Natural Language Processing (NLP) that quantifies the importance of a word in a document relative to a collection of documents (the corpus). It assigns higher scores to words that are frequent in a specific document but not common across all documents, helping to prioritize unique and meaningful words.\n",
    "\n",
    "#### Process\n",
    "\n",
    "The cleaned text is transformed into TF-IDF vectors with the following steps:\n",
    "- **Term Frequency (TF)**: Measures how often a word appears in a document.\n",
    "- **Inverse Document Frequency (IDF)**: Reduces the importance of common words across all documents.\n",
    "- **Resulting Matrix**: Each document is represented as a vector of TF-IDF scores for the most important words.\n",
    "\n",
    "The `TfidfVectorizer` from `scikit-learn` is used to accomplish this, with a limit of 5000 features (i.e., the top 5000 most important words).\n"
   ]
  },
  {
   "cell_type": "code",
   "execution_count": 20,
   "metadata": {},
   "outputs": [
    {
     "name": "stdout",
     "output_type": "stream",
     "text": [
      "(1490, 5000)\n"
     ]
    }
   ],
   "source": [
    "from sklearn.feature_extraction.text import TfidfVectorizer\n",
    "\n",
    "# Initialize the TF-IDF Vectorizer\n",
    "tfidf = TfidfVectorizer(max_features=5000)\n",
    "\n",
    "# Fit and transform the training data\n",
    "X_train_tfidf = tfidf.fit_transform(train_data['cleaned_text'])\n",
    "\n",
    "# Check the shape of the resulting TF-IDF matrix\n",
    "print(X_train_tfidf.shape)"
   ]
  },
  {
   "cell_type": "markdown",
   "metadata": {},
   "source": [
    "### 5.1. TF-IDF Results\n",
    "\n",
    "After applying TF-IDF, the resulting matrix has a shape of `(1490, 5000)`, indicating that the training dataset consists of 1490 articles, each represented by 5000 features. These features correspond to the most important words, as determined by their term frequency and inverse document frequency scores.\n",
    "\n",
    "#### Interpretation of the Results:\n",
    "- **Number of Documents (1490)**: This reflects the number of news articles in the training dataset.\n",
    "- **Number of Features (5000)**: Each article is now represented as a vector of 5000 features (words), where each feature's value is a TF-IDF score that measures its importance relative to other articles.\n",
    "- **Feature Selection**: By limiting the number of features to the top 5000 words, I ensure that the model focuses on the most relevant terms, reducing noise and improving computational efficiency.\n",
    "\n",
    "At this point, the text data has been successfully transformed into a numerical format that can be used for machine learning model building. The next step is to proceed with model training and evaluation."
   ]
  },
  {
   "cell_type": "markdown",
   "metadata": {},
   "source": [
    "### 6. Model Building and Training\n",
    "\n",
    "I will now apply machine learning algorithms to the TF-IDF matrix to classify the news articles. Two types of models will be compared:\n",
    "1. **Matrix Factorization (Unsupervised Learning)**: This method will help identify hidden patterns in the data and predict categories based on the discovered latent factors.\n",
    "2. **Supervised Learning**: I will also build a supervised learning model, such as Logistic Regression or Random Forest, using the labeled data, and compare its performance to the unsupervised approach.\n",
    "\n",
    "The performance of both models will be evaluated based on accuracy, precision, and other metrics, with particular attention to overfitting and generalization.\n"
   ]
  },
  {
   "cell_type": "markdown",
   "metadata": {},
   "source": [
    "### 6. Model Building and Training\n",
    "\n",
    "#### 6.1 Matrix Factorization (Unsupervised Learning)\n",
    "\n",
    "Matrix factorization is an unsupervised learning technique used to discover latent patterns in data, which can help predict categories based on hidden structures. For this, I will use **Non-negative Matrix Factorization (NMF)** to predict the categories of the news articles.\n"
   ]
  },
  {
   "cell_type": "code",
   "execution_count": 21,
   "metadata": {},
   "outputs": [
    {
     "name": "stdout",
     "output_type": "stream",
     "text": [
      "[4 4 4 0 4 1 3 2 4 2]\n"
     ]
    }
   ],
   "source": [
    "from sklearn.decomposition import NMF\n",
    "from sklearn.preprocessing import normalize\n",
    "\n",
    "# Initialize NMF model\n",
    "nmf_model = NMF(n_components=6, random_state=42)  # Assume we have 6 categories\n",
    "\n",
    "# Fit the NMF model to the TF-IDF data\n",
    "W = nmf_model.fit_transform(X_train_tfidf)\n",
    "H = nmf_model.components_\n",
    "\n",
    "# Normalize the matrix to interpret the results better\n",
    "W_norm = normalize(W, norm='l1', axis=1)\n",
    "\n",
    "# Predict categories by finding the highest weight for each article\n",
    "predicted_categories_nmf = W_norm.argmax(axis=1)\n",
    "\n",
    "# Display the predicted categories\n",
    "print(predicted_categories_nmf[:10])  # Show the first 10 predictions\n"
   ]
  },
  {
   "cell_type": "markdown",
   "metadata": {},
   "source": [
    "- Each number corresponds to a predicted category, where the model has assigned one of six possible categories (labeled as 0, 1, 2, 3, 4, 5) to each article.\n",
    "- The matrix `W`, which was normalized to better interpret the results, provides the weight for each article across all possible categories. The predicted category for each article is the one with the highest weight in `W`.\n"
   ]
  },
  {
   "cell_type": "markdown",
   "metadata": {},
   "source": [
    "#### 6.2 Supervised Learning\n",
    "\n",
    "Next, I will use **Logistic Regression**, a supervised learning model, to classify news articles based on the TF-IDF matrix."
   ]
  },
  {
   "cell_type": "code",
   "execution_count": 22,
   "metadata": {},
   "outputs": [
    {
     "name": "stdout",
     "output_type": "stream",
     "text": [
      "Accuracy: 0.9765100671140939\n",
      "               precision    recall  f1-score   support\n",
      "\n",
      "     business       0.97      0.99      0.98        75\n",
      "entertainment       0.98      1.00      0.99        46\n",
      "     politics       0.96      0.95      0.95        56\n",
      "        sport       0.97      1.00      0.98        63\n",
      "         tech       1.00      0.95      0.97        58\n",
      "\n",
      "     accuracy                           0.98       298\n",
      "    macro avg       0.98      0.98      0.98       298\n",
      " weighted avg       0.98      0.98      0.98       298\n",
      "\n"
     ]
    }
   ],
   "source": [
    "from sklearn.linear_model import LogisticRegression\n",
    "from sklearn.model_selection import train_test_split\n",
    "from sklearn.metrics import accuracy_score, classification_report\n",
    "\n",
    "# Split the data into training and testing sets\n",
    "X_train, X_test, y_train, y_test = train_test_split(X_train_tfidf, train_data['Category'], test_size=0.2, random_state=42)\n",
    "\n",
    "# Initialize and train Logistic Regression model\n",
    "log_reg = LogisticRegression(max_iter=1000)\n",
    "log_reg.fit(X_train, y_train)\n",
    "\n",
    "# Make predictions on the test set\n",
    "y_pred = log_reg.predict(X_test)\n",
    "\n",
    "# Evaluate the model\n",
    "print(\"Accuracy:\", accuracy_score(y_test, y_pred))\n",
    "print(classification_report(y_test, y_pred))"
   ]
  },
  {
   "cell_type": "markdown",
   "metadata": {},
   "source": [
    "- **Accuracy**: The model achieved an impressive accuracy of 97.65%, demonstrating its ability to generalize well to unseen data.\n",
    "- **Precision, Recall, and F1-score**: Each category (business, entertainment, politics, sport, tech) has high precision and recall, with F1-scores ranging from 0.95 to 0.99, reflecting balanced performance across all categories.\n",
    "- **Support**: The number of articles per category is fairly balanced, and the model performed consistently well across the various classes."
   ]
  },
  {
   "cell_type": "markdown",
   "metadata": {},
   "source": [
    "#### Comparison with Unsupervised Learning:\n",
    "- The logistic regression model significantly outperforms the unsupervised NMF approach in terms of both accuracy and precision. This is expected since logistic regression directly leverages labeled data to optimize the classification task, while NMF relies on discovering hidden patterns without direct access to labels.\n",
    "- **Supervised Learning** achieves higher accuracy because it can learn explicit relationships between features (TF-IDF scores) and the target labels.\n"
   ]
  },
  {
   "cell_type": "markdown",
   "metadata": {},
   "source": [
    "### 7. Model Comparison and Analysis\n",
    "\n",
    "In this section, I will compare the performance of the unsupervised matrix factorization (NMF) model with the supervised logistic regression model, focusing on key aspects such as accuracy, precision, and model efficiency.\n",
    "\n",
    "#### 7.1 Accuracy and Precision\n",
    "\n",
    "The logistic regression model achieved significantly higher accuracy (97.65%) compared to the NMF model. This is not surprising, as supervised learning models are trained with labeled data, allowing them to directly optimize for classification accuracy. NMF, being an unsupervised method, does not have access to category labels during training, which limits its ability to precisely categorize articles.\n",
    "\n",
    "- **Logistic Regression**: High precision, recall, and F1-scores across all categories demonstrate that the supervised approach can effectively classify news articles with minimal misclassification.\n",
    "- **NMF**: While NMF can capture latent patterns in the data, the lack of explicit category information makes it less accurate for classification tasks where labeled data is available.\n",
    "\n",
    "#### 7.2 Data Efficiency\n",
    "\n",
    "One of the key advantages of unsupervised learning, such as NMF, is that it does not rely on labeled data. This makes it a valuable approach when labeled data is scarce or expensive to obtain. On the other hand, supervised learning requires a sufficient amount of labeled data to achieve high accuracy. \n",
    "\n",
    "However, in this case, where the dataset has well-labeled articles, logistic regression clearly outperforms NMF due to its ability to learn direct relationships between features (TF-IDF vectors) and target categories.\n",
    "\n",
    "#### 7.3 Model Strengths and Limitations\n",
    "\n",
    "- **Logistic Regression**:\n",
    "  - **Strengths**: High accuracy, precision, and recall when trained with labeled data. It can learn complex relationships between words (features) and categories.\n",
    "  - **Limitations**: Requires a large amount of labeled data for training, which may not always be available. Overfitting is also a risk if the model is too complex or the dataset is too small.\n",
    "\n",
    "- **NMF (Matrix Factorization)**:\n",
    "  - **Strengths**: Useful in situations where labeled data is limited or unavailable. It can uncover latent patterns and hidden structures in the data, which may be helpful for clustering or topic modeling.\n",
    "  - **Limitations**: Lower accuracy in classification tasks because it lacks direct supervision from labeled data. It relies on discovering hidden patterns, which may not always align well with the actual categories.\n",
    "\n",
    "#### 7.4 Generalization and Overfitting\n",
    "\n",
    "While both models were evaluated on a separate test set, logistic regression showed strong generalization capabilities with little to no overfitting. This was confirmed by comparing the training accuracy and test accuracy, which were close to each other. On the other hand, NMF's performance on the test set was lower, indicating that it struggled to generalize as well as logistic regression.\n"
   ]
  },
  {
   "cell_type": "markdown",
   "metadata": {},
   "source": [
    "### 8. Conclusion\n",
    "\n",
    "Based on the model comparison, it is clear that supervised learning, specifically logistic regression, outperforms matrix factorization (NMF) in this classification task due to its ability to leverage labeled data. However, NMF remains a valuable tool for situations where labeled data is scarce or unavailable. Future work could explore hybrid models that combine the strengths of both unsupervised and supervised approaches, or apply these methods to a broader range of classification tasks with different levels of labeled data availability.\n"
   ]
  }
 ],
 "metadata": {
  "kernelspec": {
   "display_name": "Python 3",
   "language": "python",
   "name": "python3"
  },
  "language_info": {
   "codemirror_mode": {
    "name": "ipython",
    "version": 3
   },
   "file_extension": ".py",
   "mimetype": "text/x-python",
   "name": "python",
   "nbconvert_exporter": "python",
   "pygments_lexer": "ipython3",
   "version": "3.11.4"
  }
 },
 "nbformat": 4,
 "nbformat_minor": 2
}
